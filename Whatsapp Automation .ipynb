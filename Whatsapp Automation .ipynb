{
 "cells": [
  {
   "cell_type": "code",
   "execution_count": 1,
   "metadata": {},
   "outputs": [],
   "source": [
    "# import web driver and pandas\n",
    "from selenium import webdriver\n",
    "\n",
    "from selenium.webdriver.support.ui import WebDriverWait\n",
    "from selenium.webdriver.support import expected_conditions as EC\n",
    "from selenium.webdriver.common.keys import Keys\n",
    "from selenium.webdriver.common.by import By\n"
   ]
  },
  {
   "cell_type": "code",
   "execution_count": 3,
   "metadata": {},
   "outputs": [],
   "source": [
    "# specifies the path to the chromedriver.exe\n",
    "driver = webdriver.Chrome(\"D:/My code/My Scraper/chromedriver.exe\")\n"
   ]
  },
  {
   "cell_type": "code",
   "execution_count": 5,
   "metadata": {},
   "outputs": [],
   "source": [
    "# driver.get method() will navigate to a page given by the URL address\n",
    "driver.get(\"https://web.whatsapp.com/\")\n"
   ]
  },
  {
   "cell_type": "code",
   "execution_count": null,
   "metadata": {},
   "outputs": [
    {
     "name": "stdout",
     "output_type": "stream",
     "text": [
      "Wait for few seconds\n"
     ]
    }
   ],
   "source": [
    "# Replace 'name' with the name of your friend or group name\n",
    "myList = ['\"Chintu Bhaiya\"','\"Mom\"', '\"Doctor Sahiba\"']\n",
    "\n",
    "wait = WebDriverWait(driver, 1000)\n",
    "  \n",
    "for target in myList:\n",
    "    name = target.replace('\"','')\n",
    "\n",
    "    # Replace the below string with your own message\n",
    "    string = \"Hi \" + name + Keys.SHIFT +'\\n\\n'+ Keys.SHIFT + \"Welcome to ViralMint https://www.linkedin.com/company/viralmint/\"+ Keys.SHIFT +'\\n\\n'+ Keys.SHIFT + \"Regards\" + Keys.SHIFT +'\\n'+ Keys.SHIFT +\"*ViralMint*\"\n",
    "\n",
    "    x_arg = '//span[contains(@title,' + target + ')]'\n",
    "\n",
    "    group_title = wait.until(EC.presence_of_element_located((By.XPATH, x_arg)))\n",
    "\n",
    "    print (\"Wait for few seconds\")\n",
    "    group_title.click()\n",
    "\n",
    "    #locate message form by_xpath\n",
    "    message = driver.find_elements_by_xpath('//*[@id=\"main\"]/footer/div[1]/div[2]/div/div[2]')[0]\n",
    "\n",
    "\n",
    "    # send_keys() to simulate key strokes\n",
    "    message.send_keys(string)\n",
    "\n",
    "    sendbutton = driver.find_elements_by_xpath('//*[@id=\"main\"]/footer/div[1]/div[3]/button')[0]\n",
    "\n",
    "    sendbutton.click()\n",
    "    \n",
    "driver.close()\n",
    "        \n",
    "    "
   ]
  },
  {
   "cell_type": "code",
   "execution_count": null,
   "metadata": {},
   "outputs": [],
   "source": []
  }
 ],
 "metadata": {
  "kernelspec": {
   "name": "python3",
   "display_name": "Python 3.9.1 64-bit",
   "metadata": {
    "interpreter": {
     "hash": "ac59ebe37160ed0dfa835113d9b8498d9f09ceb179beaac4002f036b9467c963"
    }
   }
  },
  "language_info": {
   "codemirror_mode": {
    "name": "ipython",
    "version": 2
   },
   "file_extension": ".py",
   "mimetype": "text/x-python",
   "name": "python",
   "nbconvert_exporter": "python",
   "pygments_lexer": "ipython2",
   "version": "3.9.1-final"
  }
 },
 "nbformat": 4,
 "nbformat_minor": 2
}